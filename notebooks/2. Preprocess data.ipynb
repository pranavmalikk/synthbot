{
 "cells": [
  {
   "cell_type": "markdown",
   "metadata": {},
   "source": [
    "# Convert clipper-formatted data to mfa-formatted data\n",
    "This file walks through three pre-processing steps:\n",
    "1. Cleaning the data,\n",
    "2. Converting the data for tool use, and\n",
    "3. Generating phone-level alignments.\n",
    "\n",
    "The goal here is to run Montreal Forced Aligner (MFA) through Clipper's clips. Clipper's files are flac files and word-level transcripts. MFA takes in 16khz wave files and word-level transcripts, and it outputs phoneme-level transcripts. The `datapipes` module in `src/` can convert Clipper's files into MFA-compatible input.\n",
    "\n",
    "First step: do a dry-run to check for any errors in the Clipper files we have. Sometimes there's a filename mismatch, a missing character name, missing transcript file, or similar. While running this, you'll see the `In [ ]` on the left-hand side change to `In [*]`. When it's complete, you'll see it change to `In [1]`. The number `[1]` tells you the order in which commands on this page were executed."
   ]
  },
  {
   "cell_type": "code",
   "execution_count": null,
   "metadata": {},
   "outputs": [],
   "source": [
    "!(cd ../src; python -m datapipes \\\n",
    "    --input /home/celestia/data/clipper-samples `# clipper-formatted directory` \\\n",
    "    --output /home/celestia/data/mfa-inputs `# mfa-formatted directory` \\\n",
    "    --delta `# ignore files already processed` \\\n",
    "    --dry-run `# don't create any output files`)"
   ]
  },
  {
   "cell_type": "markdown",
   "metadata": {},
   "source": [
    "If there are any errors, make sure to fix them and re-run the above command. Repeat until there are no errors, then run the next command to generate the mfa-formatted data. If you're running this on all of Clipper's data, this might take an hour to complete."
   ]
  },
  {
   "cell_type": "code",
   "execution_count": null,
   "metadata": {},
   "outputs": [],
   "source": [
    "!(cd ../src; python -m datapipes \\\n",
    "    --input /home/celestia/data/clipper-samples \\\n",
    "    --output /home/celestia/data/mfa-inputs \\\n",
    "    --delta)"
   ]
  },
  {
   "cell_type": "markdown",
   "metadata": {},
   "source": [
    "The below two files are known to cause problems for montreal-forced-aligner. Get rid of them before running the forced aligner."
   ]
  },
  {
   "cell_type": "code",
   "execution_count": null,
   "metadata": {},
   "outputs": [],
   "source": [
    "# this one screws with montreal-forced-aligner for some reason\n",
    "!rm /home/celestia/data/mfa-inputs/Pinkie-Pie/S5_s5e19_00_02_05_Pinkie_Neutral__A.wav\n",
    "!rm /home/celestia/data/mfa-inputs/Pinkie-Pie/S5_s5e19_00_02_05_Pinkie_Neutral__A.textgrid"
   ]
  },
  {
   "cell_type": "markdown",
   "metadata": {},
   "source": [
    "Finally, run montreal-forced-aligner with the following command to generate phoneme-level transcripts. Note that, due to quirks with IPython, this command won't produce intermediate output, so you won't be able to monitor progress here. If you're running this on all of Clipper's data, this command might take a few hours to complete. You can monitor progress by watching the `data/mfa-alignments` directory."
   ]
  },
  {
   "cell_type": "code",
   "execution_count": null,
   "metadata": {},
   "outputs": [],
   "source": [
    "%%bash\n",
    "ls /home/celestia/data/mfa-inputs | while read line;\n",
    "do\n",
    "    mkdir /home/celestia/data/mfa-alignments/$line\n",
    "\n",
    "    yes n | mfa_align -v `# continue even with an incomplete dictionary` \\\n",
    "        /home/celestia/data/mfa-inputs/$line `# input directory` \\\n",
    "        /opt/mfa/pronunciations_dicts/english.dict.txt \\\n",
    "        /opt/mfa/pretrained_models/english.zip \\\n",
    "        /home/celestia/data/mfa-alignments/$line `# output directory`\n",
    "done"
   ]
  },
  {
   "cell_type": "markdown",
   "metadata": {},
   "source": [
    "In each of the directories within `mfa-alignments`, you'll find an `oovs_found.txt` file. This file contains a list of words that could not be processed because they don't exist in the pronunciation dictionary. You can find the current pronunciation dictionary in `/opt/mfa/pronunciations_dicts/english.dict.txt`. If you end up adding the pronunciations of any missing words, make sure to post them to the thread. I can update the Docker image so everyone can benefit from it."
   ]
  },
  {
   "cell_type": "code",
   "execution_count": null,
   "metadata": {},
   "outputs": [],
   "source": [
    "!cat /home/celestia/data/mfa-alignments/Twilight-Sparkle/oovs_found.txt"
   ]
  }
 ],
 "metadata": {
  "kernelspec": {
   "display_name": "Python 3",
   "language": "python",
   "name": "python3"
  },
  "language_info": {
   "codemirror_mode": {
    "name": "ipython",
    "version": 3
   },
   "file_extension": ".py",
   "mimetype": "text/x-python",
   "name": "python",
   "nbconvert_exporter": "python",
   "pygments_lexer": "ipython3",
   "version": "3.6.8"
  }
 },
 "nbformat": 4,
 "nbformat_minor": 2
}
