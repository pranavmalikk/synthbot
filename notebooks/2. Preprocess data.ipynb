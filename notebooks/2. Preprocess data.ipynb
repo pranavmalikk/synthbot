{
 "cells": [
  {
   "cell_type": "markdown",
   "metadata": {},
   "source": [
    "# Convert clipper-formatted data to mfa-formatted data\n",
    "This file walks through three pre-processing steps:\n",
    "1. Cleaning the data,\n",
    "2. Converting the data for tool use, and\n",
    "3. Generating phone-level alignments.\n",
    "\n",
    "\n",
    "\n",
    "Dry-run to check for any errors in the Clipper files we have. Sometimes there's a filename mismatch, a missing character name, missing transcript file, or similar."
   ]
  },
  {
   "cell_type": "code",
   "execution_count": 11,
   "metadata": {},
   "outputs": [],
   "source": [
    "!(cd ../src; python -m datapipes \\\n",
    "    --input /home/celestia/data/orig-samples `# clipper-formatted directory` \\\n",
    "    --output /home/celestia/data/mfa-inputs `# mfa-formatted directory` \\\n",
    "    --delta `# ignore files already processed` \\\n",
    "    --dry-run `# don't create any output files`)"
   ]
  },
  {
   "cell_type": "markdown",
   "metadata": {},
   "source": [
    "If there are any errors, make sure to fix them and re-run the above command. Repeat until there are no errors, then run the next command to generate the mfa-formatted data."
   ]
  },
  {
   "cell_type": "code",
   "execution_count": null,
   "metadata": {},
   "outputs": [],
   "source": [
    "!(cd ../src; python -m datapipes \\\n",
    "    --input /home/celestia/data/orig-samples \\\n",
    "    --output /home/celestia/data/mfa-inputs \\\n",
    "    --delta)"
   ]
  },
  {
   "cell_type": "markdown",
   "metadata": {},
   "source": [
    "The below two files are known to cause problems for montreal-forced-aligned. Get rid of them before running the forced aligner."
   ]
  },
  {
   "cell_type": "code",
   "execution_count": null,
   "metadata": {},
   "outputs": [],
   "source": [
    "# this one screws with montreal-forced-aligner for some reason\n",
    "!rm /home/celestia/data/mfa-inputs/Pinkie-Pie/S5_s5e19_00_02_05_Pinkie_Neutral__A.wav\n",
    "!rm /home/celestia/data/mfa-inputs/Pinkie-Pie/S5_s5e19_00_02_05_Pinkie_Neutral__A.textgrid"
   ]
  },
  {
   "cell_type": "markdown",
   "metadata": {},
   "source": [
    "Run montreal-forced-aligner with the following command to generate phone-level alignments."
   ]
  },
  {
   "cell_type": "code",
   "execution_count": null,
   "metadata": {},
   "outputs": [],
   "source": [
    "%%bash\n",
    "ls data/mfa-inputs | while read line;\n",
    "do\n",
    "    mkdir /home/celestia/data/mfa-alignments/$line\n",
    "\n",
    "    yes n | mfa_align -v `# continue even with an incomplete dictionary` \\\n",
    "        /home/celestia/data/mfa-inputs/$line `# input directory` \\\n",
    "        /opt/mfa/pronunciations_dicts/english.dict.txt \\\n",
    "        /opt/mfa/pretrained_models/english.zip \\\n",
    "        /home/celestia/data/mfa-alignments/$line `# output directory`\n",
    "done"
   ]
  }
 ],
 "metadata": {
  "kernelspec": {
   "display_name": "Python 3",
   "language": "python",
   "name": "python3"
  },
  "language_info": {
   "codemirror_mode": {
    "name": "ipython",
    "version": 3
   },
   "file_extension": ".py",
   "mimetype": "text/x-python",
   "name": "python",
   "nbconvert_exporter": "python",
   "pygments_lexer": "ipython3",
   "version": "3.6.8"
  }
 },
 "nbformat": 4,
 "nbformat_minor": 2
}
