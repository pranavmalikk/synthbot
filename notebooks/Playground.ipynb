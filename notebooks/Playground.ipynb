{
 "cells": [
  {
   "cell_type": "code",
   "execution_count": 30,
   "metadata": {},
   "outputs": [],
   "source": [
    "import sys\n",
    "sys.path.append('../src')\n",
    "import IPython.display as ipd\n",
    "from ponysynth.soundsheaf import *\n",
    "from ponysynth.speechcorpus import *\n",
    "import pyreaper\n",
    "import numpy"
   ]
  },
  {
   "cell_type": "code",
   "execution_count": 2,
   "metadata": {},
   "outputs": [],
   "source": [
    "twilight = load_character_corpus(\n",
    "    audio_folder='/home/celestia/data/mfa-inputs/Twilight-Sparkle',\n",
    "    transcripts_folder='/home/celestia/data/mfa-alignments/Twilight-Sparkle')"
   ]
  },
  {
   "cell_type": "code",
   "execution_count": 10,
   "metadata": {},
   "outputs": [],
   "source": [
    "ducks = open('/opt/mfa/pronunciations_dicts/english.dict.txt').read()"
   ]
  },
  {
   "cell_type": "code",
   "execution_count": 71,
   "metadata": {},
   "outputs": [
    {
     "data": {
      "text/plain": [
       "{'AA0',\n",
       " 'AA1',\n",
       " 'AA2',\n",
       " 'AE0',\n",
       " 'AE1',\n",
       " 'AE2',\n",
       " 'AH0',\n",
       " 'AH1',\n",
       " 'AH2',\n",
       " 'AO0',\n",
       " 'AO1',\n",
       " 'AO2',\n",
       " 'AW0',\n",
       " 'AW1',\n",
       " 'AW2',\n",
       " 'AY0',\n",
       " 'AY1',\n",
       " 'AY2',\n",
       " 'B',\n",
       " 'CH',\n",
       " 'D',\n",
       " 'DH',\n",
       " 'EH0',\n",
       " 'EH1',\n",
       " 'EH2',\n",
       " 'ER0',\n",
       " 'ER1',\n",
       " 'ER2',\n",
       " 'EY0',\n",
       " 'EY1',\n",
       " 'EY2',\n",
       " 'F',\n",
       " 'G',\n",
       " 'HH',\n",
       " 'IH0',\n",
       " 'IH1',\n",
       " 'IH2',\n",
       " 'IY0',\n",
       " 'IY1',\n",
       " 'IY2',\n",
       " 'JH',\n",
       " 'K',\n",
       " 'L',\n",
       " 'M',\n",
       " 'N',\n",
       " 'NG',\n",
       " 'OW0',\n",
       " 'OW1',\n",
       " 'OW2',\n",
       " 'OY0',\n",
       " 'OY1',\n",
       " 'OY2',\n",
       " 'P',\n",
       " 'R',\n",
       " 'S',\n",
       " 'SH',\n",
       " 'T',\n",
       " 'TH',\n",
       " 'UH0',\n",
       " 'UH1',\n",
       " 'UH2',\n",
       " 'UW0',\n",
       " 'UW1',\n",
       " 'UW2',\n",
       " 'V',\n",
       " 'W',\n",
       " 'Y',\n",
       " 'Z',\n",
       " 'ZH'}"
      ]
     },
     "execution_count": 71,
     "metadata": {},
     "output_type": "execute_result"
    }
   ],
   "source": [
    "lines = ducks.split('\\n')\n",
    "pron = [x.split()[1:] for x in lines]\n",
    "import itertools\n",
    "pron = list(itertools.chain(*pron))\n",
    "pron = set(pron)\n",
    "pron"
   ]
  },
  {
   "cell_type": "code",
   "execution_count": 83,
   "metadata": {},
   "outputs": [
    {
     "data": {
      "text/html": [
       "\n",
       "                <audio  controls=\"controls\" >\n",
       "                    <source src=\"data:audio/wav;base64,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\" type=\"audio/wav\" />\n",
       "                    Your browser does not support the audio element.\n",
       "                </audio>\n",
       "              "
      ],
      "text/plain": [
       "<IPython.lib.display.Audio object>"
      ]
     },
     "metadata": {},
     "output_type": "display_data"
    },
    {
     "data": {
      "text/html": [
       "\n",
       "                <audio  controls=\"controls\" >\n",
       "                    <source src=\"data:audio/wav;base64,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\" type=\"audio/wav\" />\n",
       "                    Your browser does not support the audio element.\n",
       "                </audio>\n",
       "              "
      ],
      "text/plain": [
       "<IPython.lib.display.Audio object>"
      ]
     },
     "metadata": {},
     "output_type": "display_data"
    }
   ],
   "source": [
    "from IPython.display import display\n",
    "\n",
    "\n",
    "def audio(x):\n",
    "        return ipd.Audio(list(x)[0].get_sheaf().get_image(), rate=16000)\n",
    "\n",
    "wer = twilight.find_utterances(['W', 'ER1'])\n",
    "rl = twilight.find_utterances(['ER1', 'L', 'D'])\n",
    "\n",
    "display(audio(wer))\n",
    "display(audio(rl))\n",
    "\n",
    " \n",
    "# el = numpy.array(el * 2**16, dtype='int16')\n",
    "# el\n",
    "# pyreaper.reaper(el, 16000)[1]"
   ]
  }
 ],
 "metadata": {
  "kernelspec": {
   "display_name": "Python 3",
   "language": "python",
   "name": "python3"
  },
  "language_info": {
   "codemirror_mode": {
    "name": "ipython",
    "version": 3
   },
   "file_extension": ".py",
   "mimetype": "text/x-python",
   "name": "python",
   "nbconvert_exporter": "python",
   "pygments_lexer": "ipython3",
   "version": "3.6.8"
  }
 },
 "nbformat": 4,
 "nbformat_minor": 2
}
